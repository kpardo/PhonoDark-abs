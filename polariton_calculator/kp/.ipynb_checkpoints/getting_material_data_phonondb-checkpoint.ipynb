{
 "cells": [
  {
   "cell_type": "code",
   "execution_count": 48,
   "id": "2a7fd0ae",
   "metadata": {},
   "outputs": [
    {
     "data": {
      "text/plain": [
       "<astropy.units.core._UnitContext at 0x7f79b81854c0>"
      ]
     },
     "execution_count": 48,
     "metadata": {},
     "output_type": "execute_result"
    }
   ],
   "source": [
    "import matplotlib.pyplot as plt\n",
    "import numpy as np\n",
    "import seaborn as sns\n",
    "import astropy.units as u\n",
    "import astropy.constants as const\n",
    "from astropy.coordinates import SkyCoord\n",
    "import pandas as pd\n",
    "import requests\n",
    "import os\n",
    "\n",
    "\"\"\n",
    "## set fig params\n",
    "sns.set_context(\"paper\")\n",
    "sns.set_style('ticks')\n",
    "sns.set_palette('colorblind')\n",
    "figparams = {\n",
    "        'text.latex.preamble': r'\\usepackage{amsmath} \\boldmath',\n",
    "        'text.usetex':True,\n",
    "        'axes.labelsize':20.,\n",
    "        'xtick.labelsize':16,\n",
    "        'ytick.labelsize':16,\n",
    "        'figure.figsize':[10., 8.],\n",
    "        'font.family':'DejaVu Sans',\n",
    "        'legend.fontsize':18}\n",
    "plt.rcParams.update(figparams)\n",
    "cs = plt.rcParams['axes.prop_cycle'].by_key()['color']\n",
    "import matplotlib\n",
    "matplotlib.use('Agg')\n",
    "%matplotlib inline\n",
    "\n",
    "u.set_enabled_equivalencies(u.mass_energy())"
   ]
  },
  {
   "cell_type": "code",
   "execution_count": 53,
   "id": "c1df0eab",
   "metadata": {},
   "outputs": [],
   "source": [
    "import tarfile\n",
    "from io import BytesIO\n",
    "\n",
    "material_id = 149\n",
    "\n",
    "url = f\"http://phonondb.mtl.kyoto-u.ac.jp/_downloads/mp-{material_id}-20180417.tar.lzma\"\n",
    "target_path = f'mp-{material_id}-20180417.tar.lzma'\n",
    "response = requests.get(url, stream=True)\n",
    "if response.status_code == 200:\n",
    "    with open(target_path, 'wb') as f:\n",
    "        f.write(response.raw.read())\n",
    "tarfile.open(target_path).extractall()\n",
    "os.remove(target_path)"
   ]
  },
  {
   "cell_type": "code",
   "execution_count": 46,
   "id": "12bbece1",
   "metadata": {},
   "outputs": [],
   "source": []
  },
  {
   "cell_type": "code",
   "execution_count": null,
   "id": "cb11f34e",
   "metadata": {},
   "outputs": [],
   "source": []
  }
 ],
 "metadata": {
  "kernelspec": {
   "display_name": "Python 3",
   "language": "python",
   "name": "python3"
  },
  "language_info": {
   "codemirror_mode": {
    "name": "ipython",
    "version": 3
   },
   "file_extension": ".py",
   "mimetype": "text/x-python",
   "name": "python",
   "nbconvert_exporter": "python",
   "pygments_lexer": "ipython3",
   "version": "3.9.5"
  }
 },
 "nbformat": 4,
 "nbformat_minor": 5
}
